{
 "cells": [
  {
   "cell_type": "code",
   "execution_count": 1,
   "metadata": {},
   "outputs": [],
   "source": [
    "from scipy import stats\n",
    "import math\n",
    "import numpy as np"
   ]
  },
  {
   "cell_type": "code",
   "execution_count": 2,
   "metadata": {},
   "outputs": [],
   "source": [
    "Ho = \"percentage of defect is equal to 12%\"\n",
    "Ha = \"percentage of defect is not equal to 12%\"\n",
    "\n",
    "tail = 2 # Left =1, Two = 2, Right = 3\n",
    "\n",
    "phat1 = 0.29  #sample1 prop\n",
    "phat2 = 0.14  #sample2 prop\n",
    "n1 =500      #no. of samples 1\n",
    "n2 =300      #no. of samples 2\n",
    "\n",
    "Hd = 0 #Hypothesised difference\n",
    "\n",
    "alpha = 0.05"
   ]
  },
  {
   "cell_type": "code",
   "execution_count": 5,
   "metadata": {},
   "outputs": [
    {
     "name": "stdout",
     "output_type": "stream",
     "text": [
      "Two Tailed\n",
      "\n",
      "Rejected Ho. Inference =>  percentage of defect is not equal to 12%\n",
      "\n",
      "Z critical -> +/- 1.96 \n",
      "\n",
      "Z statistic -> 4.8532 \n",
      "\n",
      "Alpha -> 0.05 \n",
      "\n",
      "P value -> 0.0 \n",
      "\n"
     ]
    }
   ],
   "source": [
    "phat = (n1*phat1 + n2*phat2)/(n1+n2)\n",
    "Zs = ((phat1 - phat2) - Hd) /math.sqrt((phat*(1-phat))*((1/n1)+(1/n2)))\n",
    "\n",
    "if tail == 1:  #Left tailed, P > alpha\n",
    "    Zc = (stats.norm.ppf(alpha))\n",
    "    P = stats.norm.cdf(Zs)\n",
    "    print(\"Left Tailed\")\n",
    "    if Zs > Zc:\n",
    "        print(\"\\nFail to reject Ho. Inference => \", Ho)\n",
    "    else :\n",
    "        print(\"\\nRejected Ho. Inference =>\", Ha)\n",
    "    print(\"\\nZ critical ->\", round(Zc,4),\"\\n\")  \n",
    "elif tail ==2: #Two tailed, P within [- alpha/2, alpha/2]\n",
    "    Zc = (stats.norm.ppf(alpha/2))  # [-Zc, Zc]  \n",
    "    P = 2*(1 - stats.norm.cdf(np.abs(Zs)))\n",
    "    print(\"Two Tailed\")\n",
    "    if Zs < Zc and Zs > -Zc:\n",
    "        print(\"\\nFail to reject Ho. Inference => \", Ho)\n",
    "    else :\n",
    "        print(\"\\nRejected Ho. Inference => \", Ha)\n",
    "    print(\"\\nZ critical -> +/-\", round(np.abs(Zc),4),\"\\n\")  \n",
    "else: #Right tailed, P < alpha\n",
    "    Zc = (stats.norm.ppf(1-alpha)) #Right tailed\n",
    "    P = 1 - stats.norm.cdf(Zs)\n",
    "    print(\"Right Tailed\")\n",
    "    if Zs < Zc :\n",
    "        print(\"\\nFail to reject Ho. Inference => \", Ho)\n",
    "    else :\n",
    "        print(\"\\nRejected Ho. Inference =>\", Ha)\n",
    "    print(\"\\nZ critical ->\", round(Zc,4),\"\\n\")  \n",
    "print(\"Z statistic ->\", round(Zs,4),\"\\n\")      \n",
    "print(\"Alpha ->\", alpha,\"\\n\")    \n",
    "print(\"P value ->\", round(P,4),\"\\n\")    \n"
   ]
  },
  {
   "cell_type": "code",
   "execution_count": null,
   "metadata": {},
   "outputs": [],
   "source": []
  }
 ],
 "metadata": {
  "kernelspec": {
   "display_name": "Python 3",
   "language": "python",
   "name": "python3"
  },
  "language_info": {
   "codemirror_mode": {
    "name": "ipython",
    "version": 3
   },
   "file_extension": ".py",
   "mimetype": "text/x-python",
   "name": "python",
   "nbconvert_exporter": "python",
   "pygments_lexer": "ipython3",
   "version": "3.7.6"
  }
 },
 "nbformat": 4,
 "nbformat_minor": 4
}
