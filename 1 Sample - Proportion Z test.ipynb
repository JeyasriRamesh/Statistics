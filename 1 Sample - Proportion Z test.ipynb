{
 "cells": [
  {
   "cell_type": "code",
   "execution_count": 1,
   "metadata": {},
   "outputs": [],
   "source": [
    "from scipy import stats\n",
    "import math\n",
    "import numpy as np"
   ]
  },
  {
   "cell_type": "code",
   "execution_count": 2,
   "metadata": {},
   "outputs": [],
   "source": [
    "Ho = \"proportion of japanese cars <= 17%\"\n",
    "Ha = \"proportion of japanese cars > 17%\"\n",
    "\n",
    "tail = 3 # Left =1, Two = 2, Right = 3\n",
    "\n",
    "phat = 0.1905  #sample prop\n",
    "p = 0.17     #pop prop\n",
    "n = 2000   #no. of samples\n",
    "\n",
    "alpha = 0.01"
   ]
  },
  {
   "cell_type": "code",
   "execution_count": 4,
   "metadata": {},
   "outputs": [
    {
     "name": "stdout",
     "output_type": "stream",
     "text": [
      "Right Tailed\n",
      "\n",
      "Rejected Ho. Inference => proportion of japanese cars > 17%\n",
      "\n",
      "Z critical -> 2.3263 \n",
      "\n",
      "Z statistic -> 2.4406 \n",
      "\n",
      "Alpha -> 0.01 \n",
      "\n",
      "P value -> 0.0073 \n",
      "\n"
     ]
    }
   ],
   "source": [
    "Zs = (phat - p)/math.sqrt((p*(1-p))/n)\n",
    "\n",
    "if tail == 1:  #Left tailed, P > alpha\n",
    "    Zc = (stats.norm.ppf(alpha))\n",
    "    P = stats.norm.cdf(Zs)\n",
    "    print(\"Left Tailed\")\n",
    "    if Zs > Zc:\n",
    "        print(\"\\nFail to reject Ho. Inference => \", Ho)\n",
    "    else :\n",
    "        print(\"\\nRejected Ho. Inference =>\", Ha)\n",
    "    print(\"\\nZ critical ->\", round(Zc,4),\"\\n\")  \n",
    "elif tail ==2: #Two tailed, P within [- alpha/2, alpha/2]\n",
    "    Zc = (stats.norm.ppf(alpha/2))  # [-Zc, Zc]  \n",
    "    P = 2*(1 - stats.norm.cdf(np.abs(Zs)))\n",
    "    print(\"Two Tailed\")\n",
    "    if Zs < Zc and Zs > -Zc:\n",
    "        print(\"\\nFail to reject Ho. Inference => \", Ho)\n",
    "    else :\n",
    "        print(\"\\nRejected Ho. Inference =>\", Ha )\n",
    "    print(\"\\nZ critical -> +/-\", round(np.abs(Zc),4),\"\\n\")  \n",
    "else: #Right tailed, P < alpha\n",
    "    Zc = (stats.norm.ppf(1-alpha)) #Right tailed\n",
    "    P = 1 - stats.norm.cdf(Zs)\n",
    "    print(\"Right Tailed\")\n",
    "    if Zs < Zc :\n",
    "        print(\"\\nFail to reject Ho. Inference => \", Ho)\n",
    "    else :\n",
    "        print(\"\\nRejected Ho. Inference =>\", Ha)\n",
    "    print(\"\\nZ critical ->\", round(Zc,4),\"\\n\")  \n",
    "print(\"Z statistic ->\", round(Zs,4),\"\\n\")      \n",
    "print(\"Alpha ->\", alpha,\"\\n\")    \n",
    "print(\"P value ->\", round(P,4),\"\\n\")    \n"
   ]
  },
  {
   "cell_type": "code",
   "execution_count": null,
   "metadata": {},
   "outputs": [],
   "source": []
  },
  {
   "cell_type": "code",
   "execution_count": null,
   "metadata": {},
   "outputs": [],
   "source": [
    "\n"
   ]
  },
  {
   "cell_type": "code",
   "execution_count": null,
   "metadata": {},
   "outputs": [],
   "source": []
  }
 ],
 "metadata": {
  "kernelspec": {
   "display_name": "Python 3",
   "language": "python",
   "name": "python3"
  },
  "language_info": {
   "codemirror_mode": {
    "name": "ipython",
    "version": 3
   },
   "file_extension": ".py",
   "mimetype": "text/x-python",
   "name": "python",
   "nbconvert_exporter": "python",
   "pygments_lexer": "ipython3",
   "version": "3.7.6"
  }
 },
 "nbformat": 4,
 "nbformat_minor": 4
}
