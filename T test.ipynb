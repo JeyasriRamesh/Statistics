{
 "cells": [
  {
   "cell_type": "code",
   "execution_count": 1,
   "metadata": {},
   "outputs": [],
   "source": [
    "from scipy import stats\n",
    "import math\n",
    "import numpy as np"
   ]
  },
  {
   "cell_type": "code",
   "execution_count": 8,
   "metadata": {},
   "outputs": [],
   "source": [
    "Ho = \"average money needed to feel rich = 1.5\"\n",
    "Ha = \"average money needed to feel rich not = 1.5\"\n",
    "\n",
    "Pmean = 1.5 #Population mean\n",
    "Smean = 2.3 #Sample mean\n",
    "Sstd = 0.5\n",
    "N = 100\n",
    "alpha = 0.01\n",
    "\n",
    "tail = 2 # Left =1, Two = 2, Right = 3"
   ]
  },
  {
   "cell_type": "code",
   "execution_count": 9,
   "metadata": {},
   "outputs": [
    {
     "name": "stdout",
     "output_type": "stream",
     "text": [
      "Two Tailed\n",
      "Ho Rejected -  average money needed to feel rich = 1.5\n",
      "\n",
      "T critical -> +/- 2.6264 \n",
      "\n",
      "T statistic -> 16.0 \n",
      "\n",
      "Alpha -> 0.01 \n",
      "\n",
      "P value -> 0.0 \n",
      "\n"
     ]
    }
   ],
   "source": [
    "Ts = (Smean - Pmean)/(Sstd/math.sqrt(N))\n",
    "P = stats.t.sf(Ts,N-1)\n",
    "\n",
    "if tail == 1:  #Left tailed, P > alpha\n",
    "    Tc = (stats.t.ppf(alpha, df=N-1))\n",
    "    P = stats.t.sf(Ts,N-1)\n",
    "    print(\"Left Tailed\")\n",
    "    if Ts > Tc:\n",
    "        print(\"Ho Accepted - \", Ho)\n",
    "    else :\n",
    "        print(\"Ho Rejected - \", Ho)\n",
    "    print(\"\\nT critical ->\", round(Tc,4),\"\\n\") \n",
    "\n",
    "elif tail ==2: #Two tailed, P within [- alpha/2, alpha/2]\n",
    "    Tc = (stats.t.ppf(alpha/2,df=N-1))  # [-Tc, Tc]  \n",
    "    P = (stats.t.sf(np.abs(Ts),N-1))*2\n",
    "    print(\"Two Tailed\")\n",
    "    if Ts < Tc and Ts > -Tc:\n",
    "        print(\"Ho Accepted - \", Ho)\n",
    "    else :\n",
    "        print(\"Ho Rejected - \", Ho)\n",
    "    print(\"\\nT critical -> +/-\", round(np.abs(Tc),4),\"\\n\") \n",
    "\n",
    "else: #Right tailed, P < alpha\n",
    "    Tc = (stats.t.ppf(1-alpha, df=N-1)) #Right tailed\n",
    "    P = 1 - stats.t.sf(Ts,N-1)\n",
    "    print(\"Right Tailed\")\n",
    "    if Ts < Tc :\n",
    "        print(\"Ho Accepted - \", Ho)\n",
    "    else :\n",
    "        print(\"Ho Rejected - \", Ho)\n",
    "    print(\"\\nT critical ->\", round(Tc,4),\"\\n\") \n",
    "\n",
    "print(\"T statistic ->\", round(Ts,4),\"\\n\")       \n",
    "print(\"Alpha ->\", alpha,\"\\n\")    \n",
    "print(\"P value ->\", round(P,4),\"\\n\")  "
   ]
  },
  {
   "cell_type": "code",
   "execution_count": 2,
   "metadata": {},
   "outputs": [],
   "source": []
  },
  {
   "cell_type": "code",
   "execution_count": null,
   "metadata": {},
   "outputs": [],
   "source": []
  }
 ],
 "metadata": {
  "kernelspec": {
   "display_name": "Python 3",
   "language": "python",
   "name": "python3"
  },
  "language_info": {
   "codemirror_mode": {
    "name": "ipython",
    "version": 3
   },
   "file_extension": ".py",
   "mimetype": "text/x-python",
   "name": "python",
   "nbconvert_exporter": "python",
   "pygments_lexer": "ipython3",
   "version": "3.7.6"
  }
 },
 "nbformat": 4,
 "nbformat_minor": 4
}
